{
 "cells": [
  {
   "cell_type": "code",
   "execution_count": 1,
   "metadata": {},
   "outputs": [],
   "source": [
    "from datasets import load_dataset\n"
   ]
  },
  {
   "cell_type": "code",
   "execution_count": 2,
   "metadata": {},
   "outputs": [
    {
     "name": "stderr",
     "output_type": "stream",
     "text": [
      "Found cached dataset tweet_topic_single (C:/Users/schmi/.cache/huggingface/datasets/cardiffnlp___tweet_topic_single/tweet_topic_single/1.0.4/832eaa087889d9f4bc549869b44e0acb85a78364dfb3d2bc0bdf23a7224cf2ce)\n"
     ]
    },
    {
     "data": {
      "application/vnd.jupyter.widget-view+json": {
       "model_id": "db1c113f86c64e4086b8ef008ab167a7",
       "version_major": 2,
       "version_minor": 0
      },
      "text/plain": [
       "  0%|          | 0/13 [00:00<?, ?it/s]"
      ]
     },
     "metadata": {},
     "output_type": "display_data"
    }
   ],
   "source": [
    "dataset = load_dataset('cardiffnlp/tweet_topic_single')"
   ]
  },
  {
   "cell_type": "code",
   "execution_count": 3,
   "metadata": {},
   "outputs": [
    {
     "name": "stderr",
     "output_type": "stream",
     "text": [
      "Some weights of the model checkpoint at vinai/bertweet-large were not used when initializing RobertaModel: ['lm_head.decoder.weight', 'lm_head.layer_norm.weight', 'lm_head.decoder.bias', 'lm_head.dense.weight', 'lm_head.bias', 'lm_head.dense.bias', 'lm_head.layer_norm.bias']\n",
      "- This IS expected if you are initializing RobertaModel from the checkpoint of a model trained on another task or with another architecture (e.g. initializing a BertForSequenceClassification model from a BertForPreTraining model).\n",
      "- This IS NOT expected if you are initializing RobertaModel from the checkpoint of a model that you expect to be exactly identical (initializing a BertForSequenceClassification model from a BertForSequenceClassification model).\n",
      "Asking to truncate to max_length but no maximum length is provided and the model has no predefined maximum length. Default to no truncation.\n"
     ]
    },
    {
     "name": "stdout",
     "output_type": "stream",
     "text": [
      "{'input_ids': [0, 133, 25522, 1039, 36206, 226, 9936, 33481, 1039, 24303, 1451, 5, 25522, 1039, 347, 29895, 14266, 229, 47909, 1039, 24303, 204, 12, 288, 11, 2436, 112, 9, 5, 2027, 2925, 6688, 4, 9771, 7020, 478, 10, 132, 12, 2962, 11683, 4, 26218, 3533, 3005, 4277, 35, 195, 6442, 6, 155, 289, 6, 321, 248, 6, 321, 8112, 6, 158, 229, 849, 19454, 574, 5785, 10816, 849, 19454, 574, 31673, 4929, 2], 'attention_mask': [1, 1, 1, 1, 1, 1, 1, 1, 1, 1, 1, 1, 1, 1, 1, 1, 1, 1, 1, 1, 1, 1, 1, 1, 1, 1, 1, 1, 1, 1, 1, 1, 1, 1, 1, 1, 1, 1, 1, 1, 1, 1, 1, 1, 1, 1, 1, 1, 1, 1, 1, 1, 1, 1, 1, 1, 1, 1, 1, 1, 1, 1, 1, 1, 1, 1, 1, 1, 1, 1, 1, 1]}\n"
     ]
    }
   ],
   "source": [
    "import torch\n",
    "from transformers import AutoModel, AutoTokenizer , AdamW\n",
    "from torch.utils.data import DataLoader, TensorDataset\n",
    "from sklearn.metrics import accuracy_score\n",
    "from sklearn.metrics import f1_score\n",
    "\n",
    "# Load pre-trained TweetRoBERTa model and tokenizer\n",
    "model_name = \"vinai/bertweet-base\"\n",
    "model = AutoModel.from_pretrained(\"vinai/bertweet-large\")\n",
    "\n",
    "tokenizer = AutoTokenizer.from_pretrained(\"vinai/bertweet-large\")\n",
    "\n",
    "train_texts = dataset[\"train_all\"][\"text\"][0]\n",
    "\n",
    "train_encodings = tokenizer(train_texts, truncation=True, padding=True)\n",
    "print(train_encodings)"
   ]
  },
  {
   "cell_type": "code",
   "execution_count": 4,
   "metadata": {},
   "outputs": [
    {
     "name": "stderr",
     "output_type": "stream",
     "text": [
      "Some weights of the model checkpoint at vinai/bertweet-large were not used when initializing RobertaForSequenceClassification: ['lm_head.decoder.weight', 'lm_head.layer_norm.weight', 'lm_head.decoder.bias', 'lm_head.dense.weight', 'lm_head.bias', 'lm_head.dense.bias', 'lm_head.layer_norm.bias']\n",
      "- This IS expected if you are initializing RobertaForSequenceClassification from the checkpoint of a model trained on another task or with another architecture (e.g. initializing a BertForSequenceClassification model from a BertForPreTraining model).\n",
      "- This IS NOT expected if you are initializing RobertaForSequenceClassification from the checkpoint of a model that you expect to be exactly identical (initializing a BertForSequenceClassification model from a BertForSequenceClassification model).\n",
      "Some weights of RobertaForSequenceClassification were not initialized from the model checkpoint at vinai/bertweet-large and are newly initialized: ['classifier.dense.weight', 'classifier.out_proj.bias', 'classifier.dense.bias', 'classifier.out_proj.weight']\n",
      "You should probably TRAIN this model on a down-stream task to be able to use it for predictions and inference.\n",
      "Asking to truncate to max_length but no maximum length is provided and the model has no predefined maximum length. Default to no truncation.\n",
      "c:\\Users\\schmi\\miniconda3\\envs\\myenv\\Lib\\site-packages\\transformers\\optimization.py:391: FutureWarning: This implementation of AdamW is deprecated and will be removed in a future version. Use the PyTorch implementation torch.optim.AdamW instead, or set `no_deprecation_warning=True` to disable this warning\n",
      "  warnings.warn(\n"
     ]
    },
    {
     "name": "stdout",
     "output_type": "stream",
     "text": [
      "Epoch 1 - Loss: 0.6832 - Accuracy: 0.7626\n",
      "test_2021 Accuracy: 0.8753\n",
      "test_2021 F1 Score (macro): 0.8753\n",
      "test_2021 F1 Score (micro): 0.8753\n",
      "Epoch 2 - Loss: 0.2724 - Accuracy: 0.9148\n",
      "test_2021 Accuracy: 0.8923\n",
      "test_2021 F1 Score (macro): 0.8923\n",
      "test_2021 F1 Score (micro): 0.8923\n",
      "Epoch 3 - Loss: 0.1313 - Accuracy: 0.9608\n",
      "test_2021 Accuracy: 0.8958\n",
      "test_2021 F1 Score (macro): 0.8958\n",
      "test_2021 F1 Score (micro): 0.8958\n",
      "Epoch 4 - Loss: 0.0476 - Accuracy: 0.9861\n",
      "test_2021 Accuracy: 0.8770\n",
      "test_2021 F1 Score (macro): 0.8770\n",
      "test_2021 F1 Score (micro): 0.8770\n",
      "Epoch 5 - Loss: 0.0184 - Accuracy: 0.9968\n",
      "test_2021 Accuracy: 0.8946\n",
      "test_2021 F1 Score (macro): 0.8946\n",
      "test_2021 F1 Score (micro): 0.8946\n",
      "Epoch 6 - Loss: 0.0102 - Accuracy: 0.9970\n",
      "test_2021 Accuracy: 0.8946\n",
      "test_2021 F1 Score (macro): 0.8946\n",
      "test_2021 F1 Score (micro): 0.8946\n",
      "Epoch 7 - Loss: 0.0052 - Accuracy: 0.9989\n",
      "test_2021 Accuracy: 0.8958\n",
      "test_2021 F1 Score (macro): 0.8958\n",
      "test_2021 F1 Score (micro): 0.8958\n",
      "Epoch 8 - Loss: 0.0014 - Accuracy: 1.0000\n",
      "test_2021 Accuracy: 0.8922\n",
      "test_2021 F1 Score (macro): 0.8922\n",
      "test_2021 F1 Score (micro): 0.8922\n"
     ]
    }
   ],
   "source": [
    "import torch\n",
    "from transformers import RobertaForSequenceClassification, AutoTokenizer , AdamW\n",
    "from torch.utils.data import DataLoader, TensorDataset\n",
    "from sklearn.metrics import accuracy_score\n",
    "\n",
    "# Load pre-trained TweetRoBERTa model and tokenizer\n",
    "model_name = \"vinai/bertweet-large\"\n",
    "model = RobertaForSequenceClassification.from_pretrained(\"vinai/bertweet-large\", num_labels=6)\n",
    "tokenizer = AutoTokenizer.from_pretrained(\"vinai/bertweet-large\") \n",
    "\n",
    "# Load and preprocess your existing train, test, and validation datasets\n",
    "train_texts = dataset[\"train_all\"][\"text\"]  # List of training tweet texts\n",
    "train_labels = dataset[\"train_all\"][\"label\"]  # List of training labels (topic classes)\n",
    "test_texts = dataset[\"test_2021\"][\"text\"] # List of testing tweet texts\n",
    "test_labels = dataset[\"test_2021\"][\"label\"]  # List of testing labels (topic classes)\n",
    "\n",
    "\n",
    "# Tokenize and encode the text data\n",
    "train_encodings = tokenizer(train_texts, truncation=True, padding=True)\n",
    "test_encodings = tokenizer(test_texts, truncation=True, padding=True)\n",
    "\n",
    "# Create PyTorch datasets\n",
    "train_dataset = TensorDataset(torch.tensor(train_encodings[\"input_ids\"]),\n",
    "                              torch.tensor(train_encodings[\"attention_mask\"]),\n",
    "                              torch.tensor(train_labels))\n",
    "test_dataset = TensorDataset(torch.tensor(test_encodings[\"input_ids\"]),\n",
    "                             torch.tensor(test_encodings[\"attention_mask\"]),\n",
    "                             torch.tensor(test_labels))\n",
    "\n",
    "# Set device\n",
    "device = torch.device(\"cuda\" if torch.cuda.is_available() else \"cpu\")\n",
    "\n",
    "# Create data loaders\n",
    "train_loader = DataLoader(train_dataset, batch_size=16, shuffle=True)\n",
    "test_loader = DataLoader(test_dataset, batch_size=32, shuffle=False)\n",
    "\n",
    "# Set up optimizer and loss function\n",
    "optimizer = AdamW(model.parameters(), lr=1e-5)\n",
    "loss_fn = torch.nn.CrossEntropyLoss()\n",
    "\n",
    "# Training loop\n",
    "model.to(device)\n",
    "model.train()\n",
    "\n",
    "for epoch in range(8):  # Number of training epochs\n",
    "    epoch_loss = 0.0\n",
    "    epoch_accuracy = 0.0\n",
    "\n",
    "    for batch in train_loader:\n",
    "        input_ids, attention_mask, labels = batch\n",
    "        input_ids = input_ids.to(device)\n",
    "        attention_mask = attention_mask.to(device)\n",
    "        labels = labels.to(device)\n",
    "\n",
    "        optimizer.zero_grad()\n",
    "        outputs = model(input_ids=input_ids, attention_mask=attention_mask, labels=labels)\n",
    "        logits = outputs.logits\n",
    "        loss = loss_fn(logits, labels)\n",
    "        loss.backward()\n",
    "        optimizer.step()\n",
    "\n",
    "        epoch_loss += loss.item()\n",
    "        _, predicted_labels = torch.max(logits, 1)\n",
    "        epoch_accuracy += accuracy_score(labels.cpu().numpy(), predicted_labels.cpu().numpy())\n",
    "\n",
    "    epoch_loss /= len(train_loader)\n",
    "    epoch_accuracy /= len(train_loader)\n",
    "\n",
    "    print(f\"Epoch {epoch + 1} - Loss: {epoch_loss:.4f} - Accuracy: {epoch_accuracy:.4f}\")\n",
    "\n",
    "    # Evaluation on the test set\n",
    "    model.eval()\n",
    "    test_accuracy = 0.0\n",
    "    test_f1_score_macro = 0.0\n",
    "    test_f1_score_micro = 0.0\n",
    "\n",
    "    with torch.no_grad():\n",
    "        for batch in test_loader:\n",
    "            input_ids, attention_mask, labels = batch\n",
    "            input_ids = input_ids.to(device)\n",
    "            attention_mask = attention_mask.to(device)\n",
    "            labels = labels.to(device)\n",
    "\n",
    "            outputs = model(input_ids=input_ids, attention_mask=attention_mask)\n",
    "            logits = outputs.logits\n",
    "            _, predicted_labels = torch.max(logits, 1)\n",
    "            test_accuracy += accuracy_score(labels.cpu().numpy(), predicted_labels.cpu().numpy())\n",
    "            test_f1_score_macro += f1_score(labels.cpu().numpy(), predicted_labels.cpu().numpy(), average= 'macro')\n",
    "            test_f1_score_micro += f1_score(labels.cpu().numpy(), predicted_labels.cpu().numpy(), average= 'micro')\n",
    "            \n",
    "\n",
    "    test_accuracy /= len(test_loader)\n",
    "    print(f\"test_2021 Accuracy: {test_accuracy:.4f}\")\n",
    "\n",
    "    test_f1_score_macro /= len(test_loader)\n",
    "    print(f\"test_2021 F1 Score (macro): {test_accuracy:.4f}\")\n",
    "\n",
    "    test_f1_score_micro /= len(test_loader)\n",
    "    print(f\"test_2021 F1 Score (micro): {test_accuracy:.4f}\")\n"
   ]
  },
  {
   "cell_type": "code",
   "execution_count": null,
   "metadata": {},
   "outputs": [],
   "source": []
  },
  {
   "attachments": {},
   "cell_type": "markdown",
   "metadata": {},
   "source": [
    "Epoch 1 - Loss: 0.7067 - Accuracy: 0.7553\n",
    "test_2020 Accuracy: 0.8993\n",
    "test_2021 Accuracy: 0.8786\n",
    "Epoch 2 - Loss: 0.2709 - Accuracy: 0.9083\n",
    "test_2020 Accuracy: 0.8984\n",
    "test_2021 Accuracy: 0.8875\n",
    "Epoch 3 - Loss: 0.1194 - Accuracy: 0.9629\n",
    "test_2020 Accuracy: 0.8837\n",
    "test_2021 Accuracy: 0.8809\n",
    "Epoch 4 - Loss: 0.0500 - Accuracy: 0.9859\n",
    "test_2020 Accuracy: 0.8967\n",
    "test_2021 Accuracy: 0.8927\n",
    "Epoch 5 - Loss: 0.0190 - Accuracy: 0.9959\n",
    "test_2020 Accuracy: 0.8941\n",
    "test_2021 Accuracy: 0.8927\n",
    "Epoch 6 - Loss: 0.0065 - Accuracy: 0.9993\n",
    "test_2020 Accuracy: 0.9019\n",
    "test_2021 Accuracy: 0.8968\n",
    "Epoch 7 - Loss: 0.0026 - Accuracy: 0.9995\n",
    "test_2020 Accuracy: 0.8932\n",
    "test_2021 Accuracy: 0.8980\n",
    "Epoch 8 - Loss: 0.0046 - Accuracy: 0.9995\n",
    "test_2020 Accuracy: 0.8958\n",
    "test_2021 Accuracy: 0.8998\n",
    "Epoch 9 - Loss: 0.0144 - Accuracy: 0.9959\n",
    "test_2020 Accuracy: 0.8845\n",
    "test_2021 Accuracy: 0.8900\n",
    "Epoch 10 - Loss: 0.0376 - Accuracy: 0.9906\n",
    "test_2020 Accuracy: 0.9097\n",
    "test_2021 Accuracy: 0.8905"
   ]
  }
 ],
 "metadata": {
  "kernelspec": {
   "display_name": "base",
   "language": "python",
   "name": "python3"
  },
  "language_info": {
   "codemirror_mode": {
    "name": "ipython",
    "version": 3
   },
   "file_extension": ".py",
   "mimetype": "text/x-python",
   "name": "python",
   "nbconvert_exporter": "python",
   "pygments_lexer": "ipython3",
   "version": "3.11.0"
  },
  "orig_nbformat": 4
 },
 "nbformat": 4,
 "nbformat_minor": 2
}
