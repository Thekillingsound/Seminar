{
 "cells": [
  {
   "cell_type": "code",
   "execution_count": null,
   "metadata": {},
   "outputs": [],
   "source": [
    "from datasets import load_dataset\n",
    "from sklearn.naive_bayes import MultinomialNB\n",
    "from sklearn.feature_extraction.text import CountVectorizer\n",
    "from sklearn.feature_extraction.text import TfidfTransformer\n",
    "import numpy as np\n",
    "from sklearn.pipeline import Pipeline\n",
    "from sklearn.metrics import f1_score"
   ]
  },
  {
   "cell_type": "code",
   "execution_count": null,
   "metadata": {},
   "outputs": [],
   "source": [
    "dataset = load_dataset('cardiffnlp/tweet_topic_single')"
   ]
  },
  {
   "cell_type": "code",
   "execution_count": null,
   "metadata": {},
   "outputs": [],
   "source": [
    "from sklearn.linear_model import SGDClassifier\n",
    "\n",
    "text_clf = Pipeline([\n",
    "    ('vect', CountVectorizer()),\n",
    "    ('clf', SGDClassifier(loss='hinge', penalty='l2',\n",
    "                        alpha=1e-3, random_state=42,\n",
    "                        max_iter=5, tol=None)),\n",
    "])\n",
    "\n",
    "text_clf.fit(dataset[\"train_all\"][\"text\"], dataset[\"train_all\"][\"label\"]) # type: ignore\n",
    "\n",
    "predicted = text_clf.predict(dataset[\"test_2021\"][\"text\"]) # type: ignore\n",
    "print(np.mean(predicted == dataset[\"test_2021\"][\"label\"])) # type: ignore\n",
    "\n",
    "print(f1_score(dataset[\"test_2021\"][\"label\"], predicted, average='macro')) # type: ignore"
   ]
  },
  {
   "cell_type": "code",
   "execution_count": null,
   "metadata": {},
   "outputs": [],
   "source": [
    "text_clf_tfidf = Pipeline([\n",
    "    ('vect', CountVectorizer()),\n",
    "    ('tfidf', TfidfTransformer()),\n",
    "    ('clf', SGDClassifier(loss='hinge', penalty='l2',\n",
    "                        alpha=1e-3, random_state=42,\n",
    "                        max_iter=5, tol=None)),\n",
    "])\n",
    "\n",
    "text_clf_tfidf.fit(dataset[\"train_all\"][\"text\"], dataset[\"train_all\"][\"label\"]) # type: ignore\n",
    "\n",
    "predicted = text_clf_tfidf.predict(dataset[\"test_2021\"][\"text\"]) # type: ignore\n",
    "print(np.mean(predicted == dataset[\"test_2021\"][\"label\"])) # type: ignore\n",
    "\n",
    "print(f1_score(dataset[\"test_2021\"][\"label\"], predicted, average='macro')) # type: ignore"
   ]
  },
  {
   "cell_type": "code",
   "execution_count": null,
   "metadata": {},
   "outputs": [],
   "source": [
    "from sklearn.linear_model import SGDClassifier\n",
    "\n",
    "text_clf = Pipeline([\n",
    "    ('vect', CountVectorizer(binary=True)),\n",
    "    ('clf', SGDClassifier(loss='hinge', penalty='l2',\n",
    "                        alpha=1e-3, random_state=42,\n",
    "                        max_iter=5, tol=None)),\n",
    "])\n",
    "\n",
    "text_clf.fit(dataset[\"train_all\"][\"text\"], dataset[\"train_all\"][\"label\"]) # type: ignore\n",
    "\n",
    "predicted = text_clf.predict(dataset[\"test_2021\"][\"text\"]) # type: ignore\n",
    "print(np.mean(predicted == dataset[\"test_2021\"][\"label\"])) # type: ignore\n",
    "\n",
    "print(f1_score(dataset[\"test_2021\"][\"label\"], predicted, average='macro')) # type: ignore"
   ]
  },
  {
   "cell_type": "code",
   "execution_count": null,
   "metadata": {},
   "outputs": [],
   "source": [
    "text_clf_tfidf = Pipeline([\n",
    "    ('vect', CountVectorizer(binary=True)),\n",
    "    ('tfidf', TfidfTransformer()),\n",
    "    ('clf', SGDClassifier(loss='hinge', penalty='l2',\n",
    "                        alpha=1e-3, random_state=42,\n",
    "                        max_iter=5, tol=None)),\n",
    "])\n",
    "\n",
    "text_clf_tfidf.fit(dataset[\"train_all\"][\"text\"], dataset[\"train_all\"][\"label\"]) # type: ignore\n",
    "\n",
    "predicted = text_clf_tfidf.predict(dataset[\"test_2021\"][\"text\"]) # type: ignore\n",
    "print(np.mean(predicted == dataset[\"test_2021\"][\"label\"])) # type: ignore\n",
    "\n",
    "print(f1_score(dataset[\"test_2021\"][\"label\"], predicted, average='macro')) # type: ignore"
   ]
  },
  {
   "cell_type": "code",
   "execution_count": null,
   "metadata": {},
   "outputs": [],
   "source": [
    "from sklearn.model_selection import GridSearchCV\n",
    "parameters = {\n",
    "    'vect__ngram_range': [(1, 1), (1, 2), (1, 3)],\n",
    "    'clf__alpha': (1e-1, 1e-2, 1e-3, 1e-4),\n",
    "}\n"
   ]
  },
  {
   "cell_type": "code",
   "execution_count": null,
   "metadata": {},
   "outputs": [],
   "source": [
    "gs_clf = GridSearchCV(text_clf_tfidf, parameters, cv=5, n_jobs=-1)\n",
    "\n",
    "gs_clf = gs_clf.fit(dataset[\"train_all\"][\"text\"], dataset[\"train_all\"][\"label\"]) # type: ignore\n",
    "\n",
    "for param_name in sorted(parameters.keys()):\n",
    "    print(\"%s: %r\" % (param_name, gs_clf.best_params_[param_name]))\n",
    "\n",
    "\n",
    "predicted = gs_clf.predict(dataset[\"test_2021\"][\"text\"]) # type: ignore\n",
    "print(np.mean(predicted == dataset[\"test_2021\"][\"label\"])) # type: ignore\n",
    "\n",
    "print(f1_score(dataset[\"test_2021\"][\"label\"], predicted, average='macro')) # type: ignore"
   ]
  }
 ],
 "metadata": {
  "kernelspec": {
   "display_name": "base",
   "language": "python",
   "name": "python3"
  },
  "language_info": {
   "codemirror_mode": {
    "name": "ipython",
    "version": 3
   },
   "file_extension": ".py",
   "mimetype": "text/x-python",
   "name": "python",
   "nbconvert_exporter": "python",
   "pygments_lexer": "ipython3",
   "version": "3.11.0"
  },
  "orig_nbformat": 4
 },
 "nbformat": 4,
 "nbformat_minor": 2
}
