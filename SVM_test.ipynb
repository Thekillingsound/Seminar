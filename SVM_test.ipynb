{
 "cells": [
  {
   "cell_type": "code",
   "execution_count": 1,
   "metadata": {},
   "outputs": [],
   "source": [
    "from datasets import load_dataset\n",
    "from sklearn.naive_bayes import MultinomialNB\n",
    "from sklearn.feature_extraction.text import CountVectorizer\n",
    "from sklearn.feature_extraction.text import TfidfTransformer\n",
    "import numpy as np\n",
    "from sklearn.pipeline import Pipeline\n",
    "from sklearn.metrics import f1_score"
   ]
  },
  {
   "cell_type": "code",
   "execution_count": 2,
   "metadata": {},
   "outputs": [
    {
     "name": "stderr",
     "output_type": "stream",
     "text": [
      "Found cached dataset tweet_topic_single (C:/Users/schmi/.cache/huggingface/datasets/cardiffnlp___tweet_topic_single/tweet_topic_single/1.0.4/832eaa087889d9f4bc549869b44e0acb85a78364dfb3d2bc0bdf23a7224cf2ce)\n"
     ]
    },
    {
     "data": {
      "application/vnd.jupyter.widget-view+json": {
       "model_id": "b1a87d08e48042089ed1c10b6c13d827",
       "version_major": 2,
       "version_minor": 0
      },
      "text/plain": [
       "  0%|          | 0/13 [00:00<?, ?it/s]"
      ]
     },
     "metadata": {},
     "output_type": "display_data"
    }
   ],
   "source": [
    "dataset = load_dataset('cardiffnlp/tweet_topic_single')"
   ]
  },
  {
   "cell_type": "code",
   "execution_count": 3,
   "metadata": {},
   "outputs": [
    {
     "name": "stdout",
     "output_type": "stream",
     "text": [
      "0.7773183697578263\n",
      "0.6055531424150178\n"
     ]
    }
   ],
   "source": [
    "from sklearn.linear_model import SGDClassifier\n",
    "\n",
    "text_clf = Pipeline([\n",
    "    ('vect', CountVectorizer()),\n",
    "    ('clf', SGDClassifier(loss='hinge', penalty='l2',\n",
    "                        alpha=1e-3, random_state=42,\n",
    "                        max_iter=5, tol=None)),\n",
    "])\n",
    "\n",
    "text_clf.fit(dataset[\"train_all\"][\"text\"], dataset[\"train_all\"][\"label\"]) # type: ignore\n",
    "\n",
    "predicted = text_clf.predict(dataset[\"test_2021\"][\"text\"]) # type: ignore\n",
    "print(np.mean(predicted == dataset[\"test_2021\"][\"label\"])) # type: ignore\n",
    "\n",
    "print(f1_score(dataset[\"test_2021\"][\"label\"], predicted, average='macro')) # type: ignore"
   ]
  },
  {
   "cell_type": "code",
   "execution_count": 4,
   "metadata": {},
   "outputs": [
    {
     "name": "stdout",
     "output_type": "stream",
     "text": [
      "0.7454223272297696\n",
      "0.46125052779952086\n"
     ]
    }
   ],
   "source": [
    "text_clf_tfidf = Pipeline([\n",
    "    ('vect', CountVectorizer()),\n",
    "    ('tfidf', TfidfTransformer()),\n",
    "    ('clf', SGDClassifier(loss='hinge', penalty='l2',\n",
    "                        alpha=1e-3, random_state=42,\n",
    "                        max_iter=5, tol=None)),\n",
    "])\n",
    "\n",
    "text_clf_tfidf.fit(dataset[\"train_all\"][\"text\"], dataset[\"train_all\"][\"label\"]) # type: ignore\n",
    "\n",
    "predicted = text_clf_tfidf.predict(dataset[\"test_2021\"][\"text\"]) # type: ignore\n",
    "print(np.mean(predicted == dataset[\"test_2021\"][\"label\"])) # type: ignore\n",
    "\n",
    "print(f1_score(dataset[\"test_2021\"][\"label\"], predicted, average='macro')) # type: ignore"
   ]
  },
  {
   "cell_type": "code",
   "execution_count": 5,
   "metadata": {},
   "outputs": [
    {
     "name": "stdout",
     "output_type": "stream",
     "text": [
      "0.7666863555818074\n",
      "0.5704291756162928\n"
     ]
    }
   ],
   "source": [
    "from sklearn.linear_model import SGDClassifier\n",
    "\n",
    "text_clf = Pipeline([\n",
    "    ('vect', CountVectorizer(binary=True)),\n",
    "    ('clf', SGDClassifier(loss='hinge', penalty='l2',\n",
    "                        alpha=1e-3, random_state=42,\n",
    "                        max_iter=5, tol=None)),\n",
    "])\n",
    "\n",
    "text_clf.fit(dataset[\"train_all\"][\"text\"], dataset[\"train_all\"][\"label\"]) # type: ignore\n",
    "\n",
    "predicted = text_clf.predict(dataset[\"test_2021\"][\"text\"]) # type: ignore\n",
    "print(np.mean(predicted == dataset[\"test_2021\"][\"label\"])) # type: ignore\n",
    "\n",
    "print(f1_score(dataset[\"test_2021\"][\"label\"], predicted, average='macro')) # type: ignore"
   ]
  },
  {
   "cell_type": "code",
   "execution_count": 6,
   "metadata": {},
   "outputs": [
    {
     "name": "stdout",
     "output_type": "stream",
     "text": [
      "0.7566450088600118\n",
      "0.4723803058224769\n"
     ]
    }
   ],
   "source": [
    "text_clf_tfidf = Pipeline([\n",
    "    ('vect', CountVectorizer(binary=True)),\n",
    "    ('tfidf', TfidfTransformer()),\n",
    "    ('clf', SGDClassifier(loss='hinge', penalty='l2',\n",
    "                        alpha=1e-3, random_state=42,\n",
    "                        max_iter=5, tol=None)),\n",
    "])\n",
    "\n",
    "text_clf_tfidf.fit(dataset[\"train_all\"][\"text\"], dataset[\"train_all\"][\"label\"]) # type: ignore\n",
    "\n",
    "predicted = text_clf_tfidf.predict(dataset[\"test_2021\"][\"text\"]) # type: ignore\n",
    "print(np.mean(predicted == dataset[\"test_2021\"][\"label\"])) # type: ignore\n",
    "\n",
    "print(f1_score(dataset[\"test_2021\"][\"label\"], predicted, average='macro')) # type: ignore"
   ]
  },
  {
   "cell_type": "code",
   "execution_count": 7,
   "metadata": {},
   "outputs": [],
   "source": [
    "from sklearn.model_selection import GridSearchCV\n",
    "parameters = {\n",
    "    'vect__ngram_range': [(1, 1), (1, 2), (1, 3)],\n",
    "    'clf__alpha': (1e-1, 1e-2, 1e-3, 1e-4),\n",
    "}\n"
   ]
  },
  {
   "cell_type": "code",
   "execution_count": 8,
   "metadata": {},
   "outputs": [
    {
     "name": "stdout",
     "output_type": "stream",
     "text": [
      "clf__alpha: 0.0001\n",
      "vect__ngram_range: (1, 1)\n",
      "0.7885410513880685\n",
      "0.6175367238607584\n"
     ]
    }
   ],
   "source": [
    "gs_clf = GridSearchCV(text_clf_tfidf, parameters, cv=5, n_jobs=-1)\n",
    "\n",
    "gs_clf = gs_clf.fit(dataset[\"train_all\"][\"text\"], dataset[\"train_all\"][\"label\"]) # type: ignore\n",
    "\n",
    "for param_name in sorted(parameters.keys()):\n",
    "    print(\"%s: %r\" % (param_name, gs_clf.best_params_[param_name]))\n",
    "\n",
    "\n",
    "predicted = gs_clf.predict(dataset[\"test_2021\"][\"text\"]) # type: ignore\n",
    "print(np.mean(predicted == dataset[\"test_2021\"][\"label\"])) # type: ignore\n",
    "\n",
    "print(f1_score(dataset[\"test_2021\"][\"label\"], predicted, average='macro')) # type: ignore"
   ]
  }
 ],
 "metadata": {
  "kernelspec": {
   "display_name": "base",
   "language": "python",
   "name": "python3"
  },
  "language_info": {
   "codemirror_mode": {
    "name": "ipython",
    "version": 3
   },
   "file_extension": ".py",
   "mimetype": "text/x-python",
   "name": "python",
   "nbconvert_exporter": "python",
   "pygments_lexer": "ipython3",
   "version": "3.11.0"
  },
  "orig_nbformat": 4
 },
 "nbformat": 4,
 "nbformat_minor": 2
}
