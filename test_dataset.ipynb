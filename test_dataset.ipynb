{
 "cells": [
  {
   "cell_type": "code",
   "execution_count": null,
   "metadata": {},
   "outputs": [],
   "source": [
    "from datasets import load_dataset\n",
    "from sklearn.naive_bayes import MultinomialNB\n",
    "from sklearn.feature_extraction.text import CountVectorizer\n",
    "from sklearn.feature_extraction.text import TfidfTransformer\n",
    "import numpy as np\n",
    "from sklearn.pipeline import Pipeline\n",
    "from collections import Counter\n",
    "import matplotlib.pyplot as plt"
   ]
  },
  {
   "cell_type": "code",
   "execution_count": null,
   "metadata": {},
   "outputs": [],
   "source": [
    "dataset = load_dataset('cardiffnlp/tweet_topic_single')"
   ]
  },
  {
   "cell_type": "code",
   "execution_count": null,
   "metadata": {},
   "outputs": [],
   "source": [
    "train_labels = dataset[\"train_all\"][\"label\"]\n",
    "\n",
    "# Count the numbers\n",
    "number_counts = Counter(train_labels)\n",
    "\n",
    "# Print the counts\n",
    "for number, count in number_counts.items():\n",
    "    print(f\"Number {number} occurs {count} times\")\n",
    "\n",
    "# Extract the numbers and their counts\n",
    "numbers = list(number_counts.keys())\n",
    "counts = list(number_counts.values())\n",
    "\n",
    "# Plot the bar plot\n",
    "plt.bar(numbers, counts)\n",
    "\n",
    "# Add labels and title\n",
    "plt.xlabel(\"Labels\")\n",
    "plt.ylabel(\"Counts\")\n",
    "plt.title(\"Train all\")\n",
    "\n",
    "# Display the plot\n",
    "plt.show()"
   ]
  },
  {
   "cell_type": "code",
   "execution_count": null,
   "metadata": {},
   "outputs": [],
   "source": [
    "train_labels = dataset[\"test_2021\"][\"label\"]\n",
    "\n",
    "# Count the numbers\n",
    "number_counts = Counter(train_labels)\n",
    "\n",
    "# Print the counts\n",
    "for number, count in number_counts.items():\n",
    "    print(f\"Number {number} occurs {count} times\")\n",
    "\n",
    "# Extract the numbers and their counts\n",
    "numbers = list(number_counts.keys())\n",
    "counts = list(number_counts.values())\n",
    "\n",
    "# Plot the bar plot\n",
    "plt.bar(numbers, counts)\n",
    "\n",
    "# Add labels and title\n",
    "plt.xlabel(\"Labels\")\n",
    "plt.ylabel(\"Counts\")\n",
    "plt.title(\"Test 2021\")\n",
    "\n",
    "\n",
    "# Display the plot\n",
    "plt.show()"
   ]
  }
 ],
 "metadata": {
  "kernelspec": {
   "display_name": "base",
   "language": "python",
   "name": "python3"
  },
  "language_info": {
   "codemirror_mode": {
    "name": "ipython",
    "version": 3
   },
   "file_extension": ".py",
   "mimetype": "text/x-python",
   "name": "python",
   "nbconvert_exporter": "python",
   "pygments_lexer": "ipython3",
   "version": "3.11.0"
  },
  "orig_nbformat": 4
 },
 "nbformat": 4,
 "nbformat_minor": 2
}
