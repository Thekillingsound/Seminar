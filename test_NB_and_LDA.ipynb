{
 "cells": [
  {
   "cell_type": "code",
   "execution_count": null,
   "metadata": {},
   "outputs": [],
   "source": [
    "from datasets import load_dataset\n",
    "from sklearn.naive_bayes import MultinomialNB\n",
    "from sklearn.feature_extraction.text import CountVectorizer\n",
    "from sklearn.feature_extraction.text import TfidfTransformer\n",
    "import numpy as np\n",
    "from sklearn.pipeline import Pipeline\n",
    "from sklearn.metrics import f1_score"
   ]
  },
  {
   "cell_type": "code",
   "execution_count": null,
   "metadata": {},
   "outputs": [],
   "source": [
    "dataset = load_dataset('cardiffnlp/tweet_topic_single')"
   ]
  },
  {
   "cell_type": "code",
   "execution_count": null,
   "metadata": {},
   "outputs": [],
   "source": [
    "count_vect = CountVectorizer()\n",
    "X_train_counts = count_vect.fit_transform(dataset[\"train_all\"][\"text\"]) # type: ignore\n",
    "\n",
    "X_test_counts = count_vect.transform(dataset[\"test_2021\"][\"text\"]) # type: ignore\n",
    "\n",
    "tfidf_transformer = TfidfTransformer()\n",
    "X_train_tfidf = tfidf_transformer.fit_transform(X_train_counts)"
   ]
  },
  {
   "cell_type": "code",
   "execution_count": null,
   "metadata": {},
   "outputs": [],
   "source": [
    "clf = MultinomialNB().fit(X_train_counts, dataset[\"train_all\"][\"label\"]) # type: ignore\n",
    "\n",
    "predicted = clf.predict(X_test_counts)\n",
    "\n",
    "print(np.mean(predicted == dataset[\"test_2021\"][\"label\"])) # type: ignore\n",
    "\n",
    "print(f1_score(dataset[\"test_2021\"][\"label\"], predicted, average='macro')) # type: ignore\n",
    "\n"
   ]
  },
  {
   "cell_type": "code",
   "execution_count": null,
   "metadata": {},
   "outputs": [],
   "source": [
    "clf = MultinomialNB().fit(X_train_tfidf, dataset[\"train_all\"][\"label\"]) # type: ignore\n",
    "\n",
    "predicted = clf.predict(X_test_counts)\n",
    "\n",
    "print(np.mean(predicted == dataset[\"test_2021\"][\"label\"])) # type: ignore\n",
    "\n",
    "print(f1_score(dataset[\"test_2021\"][\"label\"], predicted, average='macro')) # type: ignore"
   ]
  },
  {
   "cell_type": "code",
   "execution_count": null,
   "metadata": {},
   "outputs": [],
   "source": [
    "count_vect = CountVectorizer(binary=True)\n",
    "X_train_counts_b = count_vect.fit_transform(dataset[\"train_all\"][\"text\"]) # type: ignore\n",
    "\n",
    "X_test_counts_b = count_vect.transform(dataset[\"test_2021\"][\"text\"]) # type: ignore\n",
    "\n",
    "tfidf_transformer = TfidfTransformer()\n",
    "X_train_tfidf_b = tfidf_transformer.fit_transform(X_train_counts_b)"
   ]
  },
  {
   "cell_type": "code",
   "execution_count": null,
   "metadata": {},
   "outputs": [],
   "source": [
    "clf = MultinomialNB().fit(X_train_counts_b, dataset[\"train_all\"][\"label\"]) # type: ignore\n",
    "\n",
    "predicted = clf.predict(X_test_counts_b)\n",
    "\n",
    "print(np.mean(predicted == dataset[\"test_2021\"][\"label\"])) # type: ignore\n",
    "\n",
    "print(f1_score(dataset[\"test_2021\"][\"label\"], predicted, average='macro')) # type: ignore\n"
   ]
  },
  {
   "cell_type": "code",
   "execution_count": null,
   "metadata": {},
   "outputs": [],
   "source": [
    "clf = MultinomialNB().fit(X_train_tfidf_b, dataset[\"train_all\"][\"label\"]) # type: ignore\n",
    "\n",
    "predicted = clf.predict(X_test_counts_b)\n",
    "\n",
    "print(np.mean(predicted == dataset[\"test_2021\"][\"label\"])) # type: ignore\n",
    "\n",
    "print(f1_score(dataset[\"test_2021\"][\"label\"], predicted, average='macro')) # type: ignore"
   ]
  },
  {
   "cell_type": "code",
   "execution_count": null,
   "metadata": {},
   "outputs": [],
   "source": [
    "import nltk\n",
    "nltk.download('wordnet')\n",
    "nltk.download('omw-1.4')\n",
    "import logging\n",
    "logging.basicConfig(format='%(asctime)s : %(levelname)s : %(message)s', level=logging.INFO)\n",
    "docs = dataset[\"train_all\"][\"text\"] # type: ignore\t"
   ]
  },
  {
   "cell_type": "code",
   "execution_count": null,
   "metadata": {},
   "outputs": [],
   "source": [
    "# Tokenize the documents.\n",
    "from nltk.tokenize import RegexpTokenizer\n",
    "\n",
    "# Split the documents into tokens.\n",
    "tokenizer = RegexpTokenizer(r'\\w+')\n",
    "for idx in range(len(docs)):\n",
    "    docs[idx] = docs[idx].lower()  # Convert to lowercase.\n",
    "    docs[idx] = tokenizer.tokenize(docs[idx])  # Split into words.\n",
    "\n",
    "# Remove numbers, but not words that contain numbers.\n",
    "docs = [[token for token in doc if not token.isnumeric()] for doc in docs]\n",
    "\n",
    "# Remove words that are only one character.\n",
    "docs = [[token for token in doc if len(token) > 1] for doc in docs]"
   ]
  },
  {
   "cell_type": "code",
   "execution_count": null,
   "metadata": {},
   "outputs": [],
   "source": [
    "# Lemmatize the documents.\n",
    "from nltk.stem.wordnet import WordNetLemmatizer\n",
    "\n",
    "lemmatizer = WordNetLemmatizer()\n",
    "docs = [[lemmatizer.lemmatize(token) for token in doc] for doc in docs]"
   ]
  },
  {
   "cell_type": "code",
   "execution_count": null,
   "metadata": {},
   "outputs": [],
   "source": [
    "# Remove rare and common tokens.\n",
    "from gensim.corpora import Dictionary\n",
    "\n",
    "# Create a dictionary representation of the documents.\n",
    "dictionary = Dictionary(docs) # type: ignore\n",
    "\n",
    "# Filter out words that occur less than 20 documents, or more than 50% of the documents.\n",
    "dictionary.filter_extremes(no_below=20, no_above=0.7)"
   ]
  },
  {
   "cell_type": "code",
   "execution_count": null,
   "metadata": {},
   "outputs": [],
   "source": [
    "# Bag-of-words representation of the documents.\n",
    "corpus = [dictionary.doc2bow(doc) for doc in docs]\n",
    "\n",
    "print('Number of unique tokens: %d' % len(dictionary))\n",
    "print('Number of documents: %d' % len(corpus))"
   ]
  },
  {
   "cell_type": "code",
   "execution_count": null,
   "metadata": {},
   "outputs": [],
   "source": [
    "# Train LDA model.\n",
    "from gensim.models import LdaModel\n",
    "\n",
    "# Set training parameters.\n",
    "num_topics = 6\n",
    "chunksize = 2000\n",
    "passes = 20 ##################################################20\n",
    "iterations = 400\n",
    "eval_every = None  # Don't evaluate model perplexity, takes too much time.\n",
    "\n",
    "# Make an index to word dictionary.\n",
    "temp = dictionary[0]  # This is only to \"load\" the dictionary.\n",
    "id2word = dictionary.id2token\n",
    "\n",
    "model = LdaModel(\n",
    "    corpus=corpus,\n",
    "    id2word=id2word,\n",
    "    chunksize=chunksize,\n",
    "    alpha='auto',\n",
    "    eta='auto',\n",
    "    iterations=iterations,\n",
    "    num_topics=num_topics,\n",
    "    passes=passes,\n",
    "    eval_every=1\n",
    ")"
   ]
  },
  {
   "cell_type": "code",
   "execution_count": null,
   "metadata": {},
   "outputs": [],
   "source": [
    "top_topics = model.top_topics(corpus)\n",
    "\n",
    "# Average topic coherence is the sum of topic coherences of all topics, divided by the number of topics.\n",
    "avg_topic_coherence = sum([t[1] for t in top_topics]) / num_topics\n",
    "print('Average topic coherence: %.4f.' % avg_topic_coherence)\n",
    "\n",
    "from pprint import pprint\n",
    "pprint(top_topics)"
   ]
  },
  {
   "cell_type": "code",
   "execution_count": null,
   "metadata": {},
   "outputs": [],
   "source": [
    "from sklearn.metrics import accuracy_score\n",
    "docs_test2021_label = dataset[\"test_2021\"][\"label\"]\n",
    "\n",
    "\n",
    "docs_test2021_text = dataset[\"test_2021\"][\"text\"]\n",
    "# Split the documents into tokens.\n",
    "tokenizer = RegexpTokenizer(r'\\w+')\n",
    "for idx in range(len(docs_test2021_label)):\n",
    "    docs_test2021_text[idx] = docs_test2021_text[idx].lower()  # Convert to lowercase.\n",
    "    docs_test2021_text[idx] = tokenizer.tokenize(docs_test2021_text[idx])  # Split into words.\n",
    "\n",
    "# Remove numbers, but not words that contain numbers.\n",
    "docs_test2021_text = [[token for token in doc if not token.isnumeric()] for doc in docs_test2021_text]\n",
    "# Remove words that are only one character.\n",
    "docs_test2021_text = [[token for token in doc if len(token) > 1] for doc in docs_test2021_text]\n",
    "\n",
    "lemmatizer = WordNetLemmatizer()\n",
    "docs_test2021_text = [[lemmatizer.lemmatize(token) for token in doc] for doc in docs_test2021_text]\n",
    "\n",
    "# Prepare the testing data\n",
    "test_corpus = [dictionary.doc2bow(doc) for doc in docs_test2021_text]\n",
    "\n",
    "# Infer topic distributions for the test documents\n",
    "test_topic_distributions = [model[doc] for doc in test_corpus]\n",
    "\n",
    "# Convert topic distributions into labels\n",
    "predicted_labels = [max(doc, key=lambda x: x[1])[0] for doc in test_topic_distributions]\n",
    "\n",
    "# Calculate accuracy\n",
    "accuracy = accuracy_score(docs_test2021_label, predicted_labels)\n",
    "print(\"Accuracy:\", accuracy)\n",
    "\n",
    "print(\"f1_score:\", f1_score(docs_test2021_label, predicted_labels, average='macro')) # type: ignore"
   ]
  }
 ],
 "metadata": {
  "kernelspec": {
   "display_name": "base",
   "language": "python",
   "name": "python3"
  },
  "language_info": {
   "codemirror_mode": {
    "name": "ipython",
    "version": 3
   },
   "file_extension": ".py",
   "mimetype": "text/x-python",
   "name": "python",
   "nbconvert_exporter": "python",
   "pygments_lexer": "ipython3",
   "version": "3.11.0"
  },
  "orig_nbformat": 4
 },
 "nbformat": 4,
 "nbformat_minor": 2
}
